{
  "nbformat": 4,
  "nbformat_minor": 0,
  "metadata": {
    "colab": {
      "private_outputs": true,
      "provenance": [],
      "collapsed_sections": [
        "gIfDvo9L0UH2"
      ],
      "include_colab_link": true
    },
    "kernelspec": {
      "name": "python3",
      "display_name": "Python 3"
    },
    "language_info": {
      "name": "python"
    }
  },
  "cells": [
    {
      "cell_type": "markdown",
      "metadata": {
        "id": "view-in-github",
        "colab_type": "text"
      },
      "source": [
        "<a href=\"https://colab.research.google.com/github/gunagreeshma/Hotel-booking/blob/main/Hotel_booking_analysis_.ipynb\" target=\"_parent\"><img src=\"https://colab.research.google.com/assets/colab-badge.svg\" alt=\"Open In Colab\"/></a>"
      ]
    },
    {
      "cell_type": "markdown",
      "source": [
        "# **Project Name**    -\n",
        "\n"
      ],
      "metadata": {
        "id": "vncDsAP0Gaoa"
      }
    },
    {
      "cell_type": "markdown",
      "source": [
        "##### **Project Type**    - EDA\n",
        "##### **Contribution**    - Individual\n"
      ],
      "metadata": {
        "id": "beRrZCGUAJYm"
      }
    },
    {
      "cell_type": "markdown",
      "source": [
        "# **Project Summary -**"
      ],
      "metadata": {
        "id": "FJNUwmbgGyua"
      }
    },
    {
      "cell_type": "markdown",
      "source": [
        "Write the summary here within 500-600 words.\n",
        "\n",
        "This project focuses on delving into a comprehensive hotel booking dataset encompassing both city and resort accommodations. The primary objective is to extract meaningful insights and discern influential factors governing hotel bookings. The analysis will address crucial questions such as the optimal timing for booking, investigating if certain periods yield lower prices or increased availability for both types of hotels. Additionally, the study aims to uncover patterns in the length of stay and identify whether there are specific durations associated with favorable daily rates. A key aspect involves predicting the likelihood of hotels receiving a higher number of special requests, with an exploration of contributing factors. The dataset includes variables such as booking dates, guest demographics, and parking availability, enabling an examination of how these elements interplay with booking patterns. Through thorough data exploration, descriptive statistics, visualizations, and potential machine learning models, the project seeks to deliver actionable insights for hotel management. The anticipated outcomes include a detailed data analysis report, visually informative representations, and, if applicable, a predictive model for special requests. Ultimately, the significance lies in providing practical recommendations that can optimize booking strategies and enhance overall customer satisfaction within the hotel industry."
      ],
      "metadata": {
        "id": "F6v_1wHtG2nS"
      }
    },
    {
      "cell_type": "markdown",
      "source": [
        "# **GitHub Link -**"
      ],
      "metadata": {
        "id": "w6K7xa23Elo4"
      }
    },
    {
      "cell_type": "markdown",
      "source": [
        "Provide your GitHub Link here."
      ],
      "metadata": {
        "id": "h1o69JH3Eqqn"
      }
    },
    {
      "cell_type": "markdown",
      "source": [
        "# **Problem Statement**\n"
      ],
      "metadata": {
        "id": "yQaldy8SH6Dl"
      }
    },
    {
      "cell_type": "markdown",
      "source": [
        "**Write Problem Statement Here.**\n",
        "\n",
        "Have you ever wondered when the best time of year to book a hotel room is? Or the optimal length of stay in order to get the best daily rate? What if you wanted to predict whether or not a hotel was likely to receive a disproportionately high number of special requests? This hotel booking dataset can help you explore those questions! This data set contains booking information for a city hotel and a resort hotel, and includes information such as when the booking was made, length of stay, the number of adults, children, and/or babies, and the number of available parking spaces, among other things. All personally identifying information has been removed from the data. Explore and analyse the data to discover important factors that govern the bookings."
      ],
      "metadata": {
        "id": "DpeJGUA3kjGy"
      }
    },
    {
      "cell_type": "markdown",
      "source": [
        "#### **Define Your Business Objective?**"
      ],
      "metadata": {
        "id": "PH-0ReGfmX4f"
      }
    },
    {
      "cell_type": "markdown",
      "source": [
        "The business objective of this project is to leverage data-driven insights to optimize hotel booking strategies, enhance customer experience, and improve overall business outcomes for both city and resort accommodations. By analyzing the provided hotel booking dataset, the aim is to answer key questions related to optimal booking timing, length of stay dynamics, prediction of special requests, and understanding the impact of variables such as guest demographics and parking availability. The project seeks to offer actionable recommendations to hotel management, empowering them to make informed decisions that contribute to increased efficiency, revenue, and customer satisfaction. Through a combination of data exploration, descriptive analytics, visualizations, and potentially predictive modeling, the ultimate goal is to provide valuable insights that can be translated into practical strategies for the hospitality industry."
      ],
      "metadata": {
        "id": "PhDvGCAqmjP1"
      }
    },
    {
      "cell_type": "markdown",
      "source": [
        "# **General Guidelines** : -  "
      ],
      "metadata": {
        "id": "mDgbUHAGgjLW"
      }
    },
    {
      "cell_type": "markdown",
      "source": [
        "1.   Well-structured, formatted, and commented code is required.\n",
        "2.   Exception Handling, Production Grade Code & Deployment Ready Code will be a plus. Those students will be awarded some additional credits.\n",
        "     \n",
        "     The additional credits will have advantages over other students during Star Student selection.\n",
        "       \n",
        "             [ Note: - Deployment Ready Code is defined as, the whole .ipynb notebook should be executable in one go\n",
        "                       without a single error logged. ]\n",
        "\n",
        "3.   Each and every logic should have proper comments.\n",
        "4. You may add as many number of charts you want. Make Sure for each and every chart the following format should be answered.\n",
        "        \n",
        "\n",
        "```\n",
        "# Chart visualization code\n",
        "```\n",
        "            \n",
        "\n",
        "*   Why did you pick the specific chart?\n",
        "*   What is/are the insight(s) found from the chart?\n",
        "* Will the gained insights help creating a positive business impact?\n",
        "Are there any insights that lead to negative growth? Justify with specific reason.\n",
        "\n",
        "5. You have to create at least 20 logical & meaningful charts having important insights.\n",
        "\n",
        "\n",
        "[ Hints : - Do the Vizualization in  a structured way while following \"UBM\" Rule.\n",
        "\n",
        "U - Univariate Analysis,\n",
        "\n",
        "B - Bivariate Analysis (Numerical - Categorical, Numerical - Numerical, Categorical - Categorical)\n",
        "\n",
        "M - Multivariate Analysis\n",
        " ]\n",
        "\n",
        "\n",
        "\n"
      ],
      "metadata": {
        "id": "ZrxVaUj-hHfC"
      }
    },
    {
      "cell_type": "markdown",
      "source": [
        "# ***Let's Begin !***"
      ],
      "metadata": {
        "id": "O_i_v8NEhb9l"
      }
    },
    {
      "cell_type": "markdown",
      "source": [
        "## ***1. Know Your Data***"
      ],
      "metadata": {
        "id": "HhfV-JJviCcP"
      }
    },
    {
      "cell_type": "markdown",
      "source": [
        "### Import Libraries"
      ],
      "metadata": {
        "id": "Y3lxredqlCYt"
      }
    },
    {
      "cell_type": "code",
      "source": [
        "pip install pandas #install the pandas library"
      ],
      "metadata": {
        "id": "Yy6ZmMzMQBT0"
      },
      "execution_count": null,
      "outputs": []
    },
    {
      "cell_type": "code",
      "source": [
        "# Import Libraries\n",
        "import pandas as pd #Pandas allows for quick exploration of data.\n",
        "import numpy as np #useful for performing operations on entire columns or rows of a dataset without the need for explicit loops."
      ],
      "metadata": {
        "id": "JK_KuctCjshc"
      },
      "execution_count": null,
      "outputs": []
    },
    {
      "cell_type": "markdown",
      "source": [
        "### Dataset Loading"
      ],
      "metadata": {
        "id": "3RnN4peoiCZX"
      }
    },
    {
      "cell_type": "code",
      "source": [
        "# Mounting Google Drive to access files in Colab\n",
        "from google.colab import drive\n",
        "drive.mount('/content/drive')\n"
      ],
      "metadata": {
        "id": "4UBezGCnR-cA"
      },
      "execution_count": null,
      "outputs": []
    },
    {
      "cell_type": "code",
      "source": [
        "# Load Dataset\n",
        "filepath= \"/content/Hotel Bookings (1).csv\"\n",
        "auto_df=pd.read_csv(filepath) # Reads a comma-separated values (CSV) file into a DataFrame."
      ],
      "metadata": {
        "id": "ppaNQRt5kHF7"
      },
      "execution_count": null,
      "outputs": []
    },
    {
      "cell_type": "markdown",
      "source": [
        "### Dataset First View"
      ],
      "metadata": {
        "id": "x71ZqKXriCWQ"
      }
    },
    {
      "cell_type": "code",
      "source": [
        "# Dataset First Look\n",
        "auto_df"
      ],
      "metadata": {
        "id": "LWNFOSvLl09H"
      },
      "execution_count": null,
      "outputs": []
    },
    {
      "cell_type": "markdown",
      "source": [
        "### Dataset Rows & Columns count"
      ],
      "metadata": {
        "id": "7hBIi_osiCS2"
      }
    },
    {
      "cell_type": "code",
      "source": [
        "# Dataset Rows & Columns count\n",
        "# Display the shape of the dataset (number of rows and columns)\n",
        "auto_df_shape = auto_df.shape\n",
        "print(f\"Dataset shape: {auto_df_shape}\")"
      ],
      "metadata": {
        "id": "Kllu7SJgmLij"
      },
      "execution_count": null,
      "outputs": []
    },
    {
      "cell_type": "markdown",
      "source": [
        "### Dataset Information"
      ],
      "metadata": {
        "id": "JlHwYmJAmNHm"
      }
    },
    {
      "cell_type": "code",
      "source": [
        "# Dataset Info\n",
        "auto_df.info()"
      ],
      "metadata": {
        "id": "e9hRXRi6meOf"
      },
      "execution_count": null,
      "outputs": []
    },
    {
      "cell_type": "code",
      "source": [
        "# Display the first n rows of the DataFrame (default n=5)\n",
        "auto_df.head()\n"
      ],
      "metadata": {
        "id": "Ht11EVqC4L0P"
      },
      "execution_count": null,
      "outputs": []
    },
    {
      "cell_type": "code",
      "source": [
        "# Display the last  n rows of the DataFrame (default n=5)\n",
        "auto_df.tail()"
      ],
      "metadata": {
        "id": "mUCyPwqH4WPH"
      },
      "execution_count": null,
      "outputs": []
    },
    {
      "cell_type": "markdown",
      "source": [
        "#### Duplicate Values"
      ],
      "metadata": {
        "id": "35m5QtbWiB9F"
      }
    },
    {
      "cell_type": "code",
      "source": [
        "# Dataset Duplicate Value Count\n",
        "# Use the duplicated() method to identify duplicate rows\n",
        "duplicates = auto_df[auto_df.duplicated(keep='first')]\n",
        "\n",
        "# Count the duplicate rows\n",
        "duplicate_count = duplicates.shape[0]\n",
        "duplicate_count"
      ],
      "metadata": {
        "id": "hH8gIqj1lF9g"
      },
      "execution_count": null,
      "outputs": []
    },
    {
      "cell_type": "code",
      "source": [
        "# Remove duplicate rows from the dataset\n",
        "auto_df_cleaned = auto_df.drop_duplicates(keep='first')\n",
        "\n",
        "# Confirming that duplicates are removed\n",
        "cleaned_duplicate_count = auto_df_cleaned[auto_df_cleaned.duplicated(keep='first')].shape[0]\n",
        "\n",
        "# Print the count of duplicates before and after removal\n",
        "print(f\"Duplicate rows before removal: {duplicate_count}\")\n",
        "print(f\"Duplicate rows after removal: {cleaned_duplicate_count}\")"
      ],
      "metadata": {
        "id": "BL43g7W1oI5P"
      },
      "execution_count": null,
      "outputs": []
    },
    {
      "cell_type": "markdown",
      "source": [
        "#### Missing Values/Null Values"
      ],
      "metadata": {
        "id": "PoPl-ycgm1ru"
      }
    },
    {
      "cell_type": "code",
      "source": [
        "# Missing Values/Null Values Count\n",
        "# Use the isna() or isnull() method to identify missing values\n",
        "missing_values = auto_df_cleaned.isna()\n",
        "\n",
        "# Count the missing values in each column\n",
        "missing_count = missing_values.sum()\n"
      ],
      "metadata": {
        "id": "-DBBBXP7lTQM"
      },
      "execution_count": null,
      "outputs": []
    },
    {
      "cell_type": "code",
      "source": [
        "# Visualizing the missing values\n",
        "missing_count"
      ],
      "metadata": {
        "id": "xiYpXYbVle_P"
      },
      "execution_count": null,
      "outputs": []
    },
    {
      "cell_type": "code",
      "source": [
        "import matplotlib.pyplot as plt\n",
        "import seaborn as sns\n",
        "\n",
        "\n",
        "# Convert the DataFrame to a Series\n",
        "missing_count_series = missing_count.squeeze()\n",
        "\n",
        "# Setting up the plot size\n",
        "plt.figure(figsize=(12, 8))\n",
        "\n",
        "# Creating a heatmap for missing values\n",
        "sns.heatmap(missing_count_series.to_frame(), cmap='viridis', cbar=False, annot=True, fmt='g')\n",
        "\n",
        "# Adding a title to the plot\n",
        "plt.title('Missing Values Heatmap')\n",
        "\n",
        "# Displaying the plot\n",
        "plt.show()"
      ],
      "metadata": {
        "id": "AuZb1zob2wPC"
      },
      "execution_count": null,
      "outputs": []
    },
    {
      "cell_type": "markdown",
      "source": [
        "### What did you know about your dataset?"
      ],
      "metadata": {
        "id": "H0kj-8xxnORC"
      }
    },
    {
      "cell_type": "markdown",
      "source": [
        "\n",
        "In the provided dataset with 119,390 rows and 32 columns, several columns exhibit missing values. Specifically, the 'company' column has 82,137 missing values, 'agent' has 12,193 missing values, 'country' has 452 missing values, and 'children' has 4 missing values. Additionally, the dataset contains 31,994 duplicate values."
      ],
      "metadata": {
        "id": "gfoNAAC-nUe_"
      }
    },
    {
      "cell_type": "markdown",
      "source": [
        "## ***2. Understanding Your Variables***"
      ],
      "metadata": {
        "id": "nA9Y7ga8ng1Z"
      }
    },
    {
      "cell_type": "code",
      "source": [
        "# Dataset Columns\n",
        "columns = auto_df_cleaned.columns # Get the column names of the DataFrame 'auto_df' and store them in the 'columns' variable\n",
        "columns\n"
      ],
      "metadata": {
        "id": "TWisHXQmoX8T"
      },
      "execution_count": null,
      "outputs": []
    },
    {
      "cell_type": "code",
      "source": [
        "\n",
        "# Dataset Describe\n",
        "# Calculate descriptive statistics for the DataFrame 'auto_df' using the describe() method\n",
        "description = auto_df_cleaned.describe()\n",
        "\n",
        "# Display the summary statistics, including count, mean, std, min, 25%, 50%, 75%, and max\n",
        "print(description)"
      ],
      "metadata": {
        "id": "DnOaZdaE5Q5t"
      },
      "execution_count": null,
      "outputs": []
    },
    {
      "cell_type": "markdown",
      "source": [
        "### Variables Description"
      ],
      "metadata": {
        "id": "PBTbrJXOngz2"
      }
    },
    {
      "cell_type": "markdown",
      "source": [
        "The columns of the dataframe and the data they represent are listed below:\n",
        "\n",
        "hotel : Name of the hotel namely - Resort Hotel and City Hotel\n",
        "\n",
        "is_canceled : If the booking was canceled (1) or not (0)\n",
        "\n",
        "lead_time : Number of days before the actual arrival of the guests\n",
        "\n",
        "arrival_date_year : Year of arrival date\n",
        "\n",
        "arrival_date_month : Month of arrival date\n",
        "\n",
        "arrival_date_week_number : Week number of the year for arrival date\n",
        "\n",
        "arrival_date_day_of_month : Day of arrival date\n",
        "\n",
        "stays_in_weekend_nights : Number of weekend nights (Saturday or Sunday) spent at the hotel by the guests.\n",
        "\n",
        "stays_in_week_nights : Number of weeknights (Monday to Friday) spent at the hotel by the guests.\n",
        "\n",
        "adults : Number of adults among the guests\n",
        "\n",
        "children : Number of children accompanying the adults\n",
        "\n",
        "babies : Number of babies accompanying the adults\n",
        "\n",
        "meal : Type of meal booked\n",
        "\n",
        "country : Country of origin of the guests\n",
        "\n",
        "market_segment : Designation of market segment\n",
        "\n",
        "distribution_channel : Name of booking distribution channel\n",
        "\n",
        "is_repeated_guest : If the booking was from a repeated guest (1) or not (0)\n",
        "\n",
        "previous_cancellations : Number of previous bookings that were cancelled by the customer prior to the current booking\n",
        "\n",
        "previous_bookings_not_canceled : Number of previous bookings not cancelled by the customer prior to the current booking\n",
        "\n",
        "reserved_room_type : Code of room type reserved\n",
        "\n",
        "assigned_room_type : Code of room type assigned\n",
        "\n",
        "booking_changes : Number of changes made to the booking\n",
        "\n",
        "deposit_type : Type of the deposit made by the guest\n",
        "\n",
        "agent : ID of travel agent who made the booking\n",
        "\n",
        "company : ID of the company that made the booking\n",
        "\n",
        "days_in_waiting_list : Number of days the booking was in the waiting list\n",
        "\n",
        "customer_type : Type of customer, assuming one of four categories\n",
        "\n",
        "adr : Average Daily Rate, as defined by dividing the sum of all lodging transactions by the total number of staying nights\n",
        "\n",
        "required_car_parking_spaces : Number of car parking spaces required by the customer\n",
        "\n",
        "total_of_special_requests : Number of special requests made by the customer\n",
        "\n",
        "reservation_status : Reservation status (Cancelled, Check-Out or No-Show)       \n",
        "\n"
      ],
      "metadata": {
        "id": "aJV4KIxSnxay"
      }
    },
    {
      "cell_type": "markdown",
      "source": [
        "### Check Unique Values for each variable."
      ],
      "metadata": {
        "id": "u3PMJOP6ngxN"
      }
    },
    {
      "cell_type": "code",
      "source": [
        "\n",
        "# Check Unique Values for each variable.\n",
        "# Use the nunique() method to count unique values for each column\n",
        "unique_values = auto_df_cleaned.nunique()\n",
        "unique_values"
      ],
      "metadata": {
        "id": "zms12Yq5n-jE"
      },
      "execution_count": null,
      "outputs": []
    },
    {
      "cell_type": "markdown",
      "source": [
        "## 3. ***Data Wrangling***"
      ],
      "metadata": {
        "id": "dauF4eBmngu3"
      }
    },
    {
      "cell_type": "markdown",
      "source": [
        "### Data Wrangling Code"
      ],
      "metadata": {
        "id": "bKJF3rekwFvQ"
      }
    },
    {
      "cell_type": "code",
      "source": [
        "# Write your code to make your dataset analysis ready.\n",
        "# Visualizing the missing values\n",
        "missing_count"
      ],
      "metadata": {
        "id": "wk-9a2fpoLcV"
      },
      "execution_count": null,
      "outputs": []
    },
    {
      "cell_type": "code",
      "source": [
        "# Handling missing values\n",
        "auto_df_cleaned = auto_df_cleaned.copy()\n",
        "# Handling missing values in 'children' column (numerical)\n",
        "auto_df_cleaned['children'].fillna(auto_df_cleaned['children'].mean(), inplace=True)\n",
        "\n",
        "\n",
        "\n"
      ],
      "metadata": {
        "id": "OHiNuvhVV0do"
      },
      "execution_count": null,
      "outputs": []
    },
    {
      "cell_type": "code",
      "source": [
        "# Check missing values in 'children' column\n",
        "children_missing_count = auto_df_cleaned['children'].isnull().sum()\n",
        "\n",
        "print(f\"Missing values in 'children' column: {children_missing_count}\")"
      ],
      "metadata": {
        "id": "gPK30UBZV0Xw"
      },
      "execution_count": null,
      "outputs": []
    },
    {
      "cell_type": "code",
      "source": [
        "\n",
        "# Handling missing values in 'company' and 'agent' columns by filling with 0\n",
        "auto_df_cleaned[['company', 'agent']] = auto_df_cleaned[['company', 'agent']].fillna(0)\n"
      ],
      "metadata": {
        "id": "dp27ohmVV0VW"
      },
      "execution_count": null,
      "outputs": []
    },
    {
      "cell_type": "code",
      "source": [
        "# Check missing values in 'Company','agent' column\n",
        "company_missing_count = auto_df_cleaned['company'].isnull().sum()\n",
        "\n",
        "#Display the missing values for  column company\n",
        "print(f\"Missing values in 'company'  column: {company_missing_count}\")"
      ],
      "metadata": {
        "id": "DUYcFU0OV0Sh"
      },
      "execution_count": null,
      "outputs": []
    },
    {
      "cell_type": "code",
      "source": [
        "\n",
        "# Check missing values in 'Company','agent' column\n",
        "agent_missing_count = auto_df_cleaned['agent'].isnull().sum()\n",
        "\n",
        "#Display the missing values for the column agent\n",
        "print(f\"Missing values in 'agent'  column: {agent_missing_count}\")"
      ],
      "metadata": {
        "id": "z7vjCtsBV0Pe"
      },
      "execution_count": null,
      "outputs": []
    },
    {
      "cell_type": "code",
      "source": [
        "# Check missing values in 'country'  column\n",
        "auto_df_cleaned['country'].fillna('others', inplace=True)\n"
      ],
      "metadata": {
        "id": "jydJY7e1V0Jk"
      },
      "execution_count": null,
      "outputs": []
    },
    {
      "cell_type": "code",
      "source": [
        "\n",
        "#Display the missing values for the column country\n",
        "missing_country_count = auto_df_cleaned['country'].isnull().sum()\n",
        "print(f\"Number of missing values in 'country' column: {missing_country_count}\")\n"
      ],
      "metadata": {
        "id": "1YCqWaWYcfVw"
      },
      "execution_count": null,
      "outputs": []
    },
    {
      "cell_type": "code",
      "source": [
        "# Check missing values count for each column\n",
        "missing_values_count = auto_df_cleaned.isnull().sum()\n",
        "print(\"Missing values count for each column:\")\n",
        "print(missing_values_count)\n"
      ],
      "metadata": {
        "id": "NU-vjvJDckVz"
      },
      "execution_count": null,
      "outputs": []
    },
    {
      "cell_type": "code",
      "source": [
        "# Visualizing the distribution of Average Daily Rate (ADR) using a boxplot\n",
        "import matplotlib.pyplot as plt\n",
        "import seaborn as sns\n",
        "\n",
        "plt.figure(figsize=(10, 6))\n",
        "sns.boxplot(x=auto_df_cleaned['adr'], color='lightblue')\n",
        "plt.title('Distribution of Average Daily Rate (ADR)')\n",
        "plt.xlabel('Average Daily Rate (ADR)')\n",
        "plt.show()"
      ],
      "metadata": {
        "id": "jSOkK_y8eCtg"
      },
      "execution_count": null,
      "outputs": []
    },
    {
      "cell_type": "code",
      "source": [
        "# Assuming auto_df_cleaned is your DataFrame\n",
        "# Calculate Q1, Q3, and IQR for the 'adr' column\n",
        "Q1 = auto_df_cleaned['adr'].quantile(0.25)\n",
        "Q3 = auto_df_cleaned['adr'].quantile(0.75)\n",
        "IQR = Q3 - Q1\n",
        "\n",
        "# Define the upper and lower bounds\n",
        "lower_bound = Q1 - 1.5 * IQR\n",
        "upper_bound = Q3 + 1.5 * IQR\n",
        "\n",
        "# Create a mask for outliers based on the IQR method\n",
        "outliers_mask = (auto_df_cleaned['adr'] < lower_bound) | (auto_df_cleaned['adr'] > upper_bound)\n",
        "\n",
        "# Filter out rows with outliers\n",
        "filtered_df_no_outliers = auto_df_cleaned[~outliers_mask]\n",
        "\n",
        "# Visualize the box plot after removing outliers\n",
        "plt.figure(figsize=(12, 8))\n",
        "sns.boxplot(x='adr', data=filtered_df_no_outliers, color='lightblue')\n",
        "plt.title('Distribution of ADR (After Removing Outliers)', fontsize=16)\n",
        "plt.xlabel('ADR', fontsize=14)\n",
        "plt.show()\n",
        "\n",
        "\n",
        "\n",
        "\n"
      ],
      "metadata": {
        "id": "U4PR3fYao7O-"
      },
      "execution_count": null,
      "outputs": []
    },
    {
      "cell_type": "markdown",
      "source": [
        "### What all manipulations have you done and insights you found?"
      ],
      "metadata": {
        "id": "MSa1f5Uengrz"
      }
    },
    {
      "cell_type": "markdown",
      "source": [
        "In the preprocessing of the dataset, missing values in the 'agent,' 'country,' and 'children' columns were addressed using the fillna method. Additionally, outliers were identified and removed from the 'adr' column using a box plot visualization. These manipulations enhance the dataset's cleanliness and reliability for subsequent analyses. The insights gained include a more complete dataset with reduced missing values and a refined understanding of the distribution of average daily rates ('adr') after outlier removal. These steps contribute to improved data quality, ensuring more accurate and meaningful insights in the context of hotel bookings."
      ],
      "metadata": {
        "id": "LbyXE7I1olp8"
      }
    },
    {
      "cell_type": "markdown",
      "source": [
        "## ***4. Data Vizualization, Storytelling & Experimenting with charts : Understand the relationships between variables***"
      ],
      "metadata": {
        "id": "GF8Ens_Soomf"
      }
    },
    {
      "cell_type": "markdown",
      "source": [
        "Univariate Analysis"
      ],
      "metadata": {
        "id": "KeuvTSNyx8fP"
      }
    },
    {
      "cell_type": "markdown",
      "source": [
        "#### Chart - 1"
      ],
      "metadata": {
        "id": "0wOQAZs5pc--"
      }
    },
    {
      "cell_type": "code",
      "source": [
        "import matplotlib.pyplot as plt\n",
        "import seaborn as sns\n",
        "\n",
        "# Setting up the plot size\n",
        "plt.figure(figsize=(8, 5))\n",
        "\n",
        "# Creating a histogram with a kernel density estimate (KDE) for lead_time\n",
        "sns.histplot(auto_df_cleaned['lead_time'], bins=30, kde=True)\n",
        "\n",
        "# Adding a title to the plot\n",
        "plt.title('Distribution of Lead Time')\n",
        "\n",
        "# Labeling the x-axis\n",
        "plt.xlabel('Lead Time')\n",
        "\n",
        "# Labeling the y-axis\n",
        "plt.ylabel('Frequency')\n",
        "\n",
        "# Displaying the plot\n",
        "plt.show()"
      ],
      "metadata": {
        "id": "9MZlR7zYwjX0"
      },
      "execution_count": null,
      "outputs": []
    },
    {
      "cell_type": "markdown",
      "source": [
        "##### 1. Why did you pick the specific chart?"
      ],
      "metadata": {
        "id": "K5QZ13OEpz2H"
      }
    },
    {
      "cell_type": "markdown",
      "source": [
        "I chose a histogram with a kernel density estimate (KDE) because it effectively illustrates the distribution of lead times, providing a clear visualization of the frequency of different lead time intervals."
      ],
      "metadata": {
        "id": "XESiWehPqBRc"
      }
    },
    {
      "cell_type": "markdown",
      "source": [
        "##### 2. What is/are the insight(s) found from the chart?"
      ],
      "metadata": {
        "id": "lQ7QKXXCp7Bj"
      }
    },
    {
      "cell_type": "markdown",
      "source": [
        "The histogram indicates a right-skewed distribution, with a peak frequency in the 0 to 100 days range. This suggests that a substantial number of bookings are made with relatively short lead times, potentially highlighting a trend of last-minute reservations."
      ],
      "metadata": {
        "id": "C_j1G7yiqdRP"
      }
    },
    {
      "cell_type": "markdown",
      "source": [
        "##### 3. Will the gained insights help creating a positive business impact?\n",
        "Are there any insights that lead to negative growth? Justify with specific reason."
      ],
      "metadata": {
        "id": "448CDAPjqfQr"
      }
    },
    {
      "cell_type": "markdown",
      "source": [
        "The insight into a concentration of bookings with short lead times could positively impact business responsiveness to last-minute demand. However, it may also pose challenges for resource planning and demand forecasting, potentially leading to negative growth if operational strategies are not adjusted to efficiently accommodate short-term reservations. Balancing operational flexibility with resource optimization will be crucial for managing the potential impact on business growth."
      ],
      "metadata": {
        "id": "3cspy4FjqxJW"
      }
    },
    {
      "cell_type": "markdown",
      "source": [
        "#### Chart - 2"
      ],
      "metadata": {
        "id": "KSlN3yHqYklG"
      }
    },
    {
      "cell_type": "code",
      "source": [
        "\n",
        "# Setting up the plot size\n",
        "plt.figure(figsize=(8, 8))\n",
        "\n",
        "# Creating a pie chart for the distribution of hotel types\n",
        "auto_df_cleaned['hotel'].value_counts().plot.pie(autopct='%1.1f%%', startangle=90, colors=['skyblue', 'lightcoral'])\n",
        "\n",
        "# Adding a title to the plot\n",
        "plt.title('Distribution of Hotel Types')\n",
        "\n",
        "# Displaying the plot\n",
        "plt.show()"
      ],
      "metadata": {
        "id": "pyk-bAjZ0zBb"
      },
      "execution_count": null,
      "outputs": []
    },
    {
      "cell_type": "markdown",
      "source": [
        "##### 1. Why did you pick the specific chart?"
      ],
      "metadata": {
        "id": "t6dVpIINYklI"
      }
    },
    {
      "cell_type": "markdown",
      "source": [
        "I selected a pie chart for its ability to effectively illustrate the distribution of hotel types in a visually intuitive manner, making it easy to compare the proportions of City Hotel and Resort Hotel."
      ],
      "metadata": {
        "id": "5aaW0BYyYklI"
      }
    },
    {
      "cell_type": "markdown",
      "source": [
        "##### 2. What is/are the insight(s) found from the chart?"
      ],
      "metadata": {
        "id": "ijmpgYnKYklI"
      }
    },
    {
      "cell_type": "markdown",
      "source": [
        "The pie chart indicates that City Hotel constitutes a majority at 61.1%, while Resort Hotel accounts for 38.9% of the total distribution. This insight provides a clear understanding of the relative prevalence of each hotel type in the dataset"
      ],
      "metadata": {
        "id": "PSx9atu2YklI"
      }
    },
    {
      "cell_type": "markdown",
      "source": [
        "##### 3. Will the gained insights help creating a positive business impact?\n",
        "Are there any insights that lead to negative growth? Justify with specific reason."
      ],
      "metadata": {
        "id": "-JiQyfWJYklI"
      }
    },
    {
      "cell_type": "markdown",
      "source": [
        "The insights can positively impact business planning by informing strategic decisions based on the dominant presence of City Hotel. However, reliance on a single hotel type might pose a risk during market shifts or changes in customer preferences, potentially leading to negative growth if not diversified. A diversified approach considering market dynamics could mitigate such risks and foster positive business impact over the long term."
      ],
      "metadata": {
        "id": "BcBbebzrYklV"
      }
    },
    {
      "cell_type": "markdown",
      "source": [
        "#### Chart - 3"
      ],
      "metadata": {
        "id": "EM7whBJCYoAo"
      }
    },
    {
      "cell_type": "code",
      "source": [
        "# Setting up the plot size\n",
        "plt.figure(figsize=(12, 6))\n",
        "\n",
        "# Creating a count plot for the number of bookings by month\n",
        "sns.countplot(x='arrival_date_month', data=auto_df_cleaned, order=['January', 'February', 'March', 'April', 'May', 'June', 'July', 'August', 'September', 'October', 'November', 'December'])\n",
        "\n",
        "# Adding a title to the plot\n",
        "plt.title('Number of Bookings by Month')\n",
        "\n",
        "# Labeling the x-axis\n",
        "plt.xlabel('Month')\n",
        "\n",
        "# Labeling the y-axis\n",
        "plt.ylabel('Number of Bookings')\n",
        "\n",
        "# Displaying the plot\n",
        "plt.show()"
      ],
      "metadata": {
        "id": "tir3ioTS2E0C"
      },
      "execution_count": null,
      "outputs": []
    },
    {
      "cell_type": "markdown",
      "source": [
        "What is the count distribution of different customer types"
      ],
      "metadata": {
        "id": "h4NWi3c702g9"
      }
    },
    {
      "cell_type": "markdown",
      "source": [
        "I opted for a count plot for its ability to showcase the distribution of bookings across months, providing a clear visual representation of the variations in booking volumes throughout the year."
      ],
      "metadata": {
        "id": "5dBItgRVYoAp"
      }
    },
    {
      "cell_type": "markdown",
      "source": [
        "##### 2. What is/are the insight(s) found from the chart?"
      ],
      "metadata": {
        "id": "85gYPyotYoAp"
      }
    },
    {
      "cell_type": "markdown",
      "source": [
        "The count plot reveals that August has the highest number of bookings, followed by July. This insight suggests a peak season during these summer months, potentially indicating a period of increased demand for hotel bookings."
      ],
      "metadata": {
        "id": "4jstXR6OYoAp"
      }
    },
    {
      "cell_type": "markdown",
      "source": [
        "##### 3. Will the gained insights help creating a positive business impact?\n",
        "Are there any insights that lead to negative growth? Justify with specific reason."
      ],
      "metadata": {
        "id": "RoGjAbkUYoAp"
      }
    },
    {
      "cell_type": "markdown",
      "source": [
        "The insights into peak booking months, particularly in August and July, can positively impact business planning by allowing for optimized resource allocation and tailored marketing strategies during high-demand periods. However, if not managed efficiently, increased demand might lead to operational challenges, potentially resulting in negative growth due to overwhelmed resources and potential customer dissatisfaction. Strategic planning and operational preparedness are crucial to capitalize on the positive impact of heightened demand.\n",
        "\n",
        "\n",
        "\n",
        "\n"
      ],
      "metadata": {
        "id": "zfJ8IqMcYoAp"
      }
    },
    {
      "cell_type": "markdown",
      "source": [
        "#### Chart - 4"
      ],
      "metadata": {
        "id": "4Of9eVA-YrdM"
      }
    },
    {
      "cell_type": "code",
      "source": [
        "# Chart - 4 visualization code\n",
        "# Setting up the plot size\n",
        "plt.figure(figsize=(8, 5))\n",
        "\n",
        "# Creating a count plot for the customer types\n",
        "sns.countplot(x='customer_type', data=auto_df_cleaned)\n",
        "\n",
        "# Adding a title to the plot\n",
        "plt.title('Count of Customer Types')\n",
        "\n",
        "# Labeling the x-axis\n",
        "plt.xlabel('Customer Type')\n",
        "\n",
        "# Labeling the y-axis\n",
        "plt.ylabel('Count')\n",
        "\n",
        "# Displaying the plot\n",
        "plt.show()"
      ],
      "metadata": {
        "id": "irlUoxc8YrdO"
      },
      "execution_count": null,
      "outputs": []
    },
    {
      "cell_type": "markdown",
      "source": [
        "##### 1. Why did you pick the specific chart?"
      ],
      "metadata": {
        "id": "iky9q4vBYrdO"
      }
    },
    {
      "cell_type": "markdown",
      "source": [
        "I chose a count plot to visually represent the distribution of customer types, as it provides a straightforward and effective way to compare the counts of different customer categories."
      ],
      "metadata": {
        "id": "aJRCwT6DYrdO"
      }
    },
    {
      "cell_type": "markdown",
      "source": [
        "##### 2. What is/are the insight(s) found from the chart?"
      ],
      "metadata": {
        "id": "F6T5p64dYrdO"
      }
    },
    {
      "cell_type": "markdown",
      "source": [
        "The count plot reveals that the 'Transient' customer type is predominant, with 'Transient-Party' being the second-highest category. This insight suggests a significant proportion of short-term and individual bookings compared to group or long-term stays."
      ],
      "metadata": {
        "id": "Xx8WAJvtYrdO"
      }
    },
    {
      "cell_type": "markdown",
      "source": [
        "##### 3. Will the gained insights help creating a positive business impact?\n",
        "Are there any insights that lead to negative growth? Justify with specific reason."
      ],
      "metadata": {
        "id": "y-Ehk30pYrdP"
      }
    },
    {
      "cell_type": "markdown",
      "source": [
        "The insights can positively impact business strategies by tailoring services and marketing efforts to cater to the predominant 'Transient' customer type. However, relying heavily on short-term and individual bookings might pose challenges during periods of low demand, potentially leading to negative growth if the business is not diversified to accommodate varying customer preferences and stay durations. A balanced approach that considers diverse customer segments could mitigate potential risks and foster positive business impact over the long term."
      ],
      "metadata": {
        "id": "jLNxxz7MYrdP"
      }
    },
    {
      "cell_type": "markdown",
      "source": [
        "#### Chart - 5"
      ],
      "metadata": {
        "id": "bamQiAODYuh1"
      }
    },
    {
      "cell_type": "code",
      "source": [
        "import pandas as pd\n",
        "import matplotlib.pyplot as plt\n",
        "\n",
        "# Grouping by 'distribution_channel' in your DataFrame ('auto_df_cleaned')\n",
        "group_by_dc = auto_df_cleaned.groupby('distribution_channel')\n",
        "\n",
        "# Calculating the percentage of bookings for each distribution channel\n",
        "d1 = pd.DataFrame(round((group_by_dc.size() / auto_df_cleaned.shape[0]) * 100, 2)).reset_index().rename(columns={'distribution_channel': 'Booking_Channel', 0: 'Booking_Percentage'})\n",
        "\n",
        "# Plotting a pie chart\n",
        "plt.figure(figsize=(8, 8))\n",
        "\n",
        "# Extracting data for the pie chart\n",
        "data = d1['Booking_Percentage']\n",
        "labels = d1['Booking_Channel']\n",
        "\n",
        "# Custom colors for the pie chart\n",
        "custom_colors = ['lightblue', 'lightcoral', 'lightgreen', 'lightsalmon', 'lightseagreen']\n",
        "\n",
        "# Creating the pie chart with explode, labels, and percentage distance customization\n",
        "plt.pie(x=data, autopct=\"%.2f%%\", explode=[0.05] * len(data), labels=labels, pctdistance=0.5, colors=custom_colors)\n",
        "\n",
        "# Adding a title to the pie chart\n",
        "plt.title(\"Booking Percentage by Distribution Channels\", fontsize=14)\n",
        "\n",
        "# Displaying the pie chart\n",
        "plt.show()"
      ],
      "metadata": {
        "id": "wOuSE1Ac2cqh"
      },
      "execution_count": null,
      "outputs": []
    },
    {
      "cell_type": "markdown",
      "source": [
        "##### 1. Why did you pick the specific chart?"
      ],
      "metadata": {
        "id": "QHF8YVU7Yuh3"
      }
    },
    {
      "cell_type": "markdown",
      "source": [
        "I selected a pie chart to visually represent the distribution of booking channels, providing a clear and concise overview of the percentage contribution of each channel to the total bookings."
      ],
      "metadata": {
        "id": "dcxuIMRPYuh3"
      }
    },
    {
      "cell_type": "markdown",
      "source": [
        "##### 2. What is/are the insight(s) found from the chart?"
      ],
      "metadata": {
        "id": "GwzvFGzlYuh3"
      }
    },
    {
      "cell_type": "markdown",
      "source": [
        "The pie chart indicates that 'TA/TO' (Travel Agents/Tour Operators) is the dominant booking channel, constituting 79.11% of total bookings. 'Direct' bookings follow as the second-highest channel with 14.86%, and other channels contribute to the remaining percentage. This insight highlights the significant influence of travel agents and tour operators in driving hotel bookings."
      ],
      "metadata": {
        "id": "uyqkiB8YYuh3"
      }
    },
    {
      "cell_type": "markdown",
      "source": [
        "##### 3. Will the gained insights help creating a positive business impact?\n",
        "Are there any insights that lead to negative growth? Justify with specific reason."
      ],
      "metadata": {
        "id": "qYpmQ266Yuh3"
      }
    },
    {
      "cell_type": "markdown",
      "source": [
        "The insights can positively impact business strategies by emphasizing collaboration with and optimizing services for travel agents and tour operators, the primary contributors. However, overreliance on a single dominant channel may pose a risk during shifts in market dynamics or changes in customer behaviors, potentially leading to negative growth if not diversified. A diversified approach, considering various booking channels, can help mitigate risks and foster positive business impact over the long term"
      ],
      "metadata": {
        "id": "_WtzZ_hCYuh4"
      }
    },
    {
      "cell_type": "markdown",
      "source": [
        "#### Chart - 6"
      ],
      "metadata": {
        "id": "OH-pJp9IphqM"
      }
    },
    {
      "cell_type": "code",
      "source": [
        "# Setting up the plot size\n",
        "plt.figure(figsize=(8, 5))\n",
        "\n",
        "# Creating a histogram with kernel density estimation for the distribution of total special requests\n",
        "sns.histplot(auto_df_cleaned['total_of_special_requests'], kde=True)\n",
        "\n",
        "# Adding a title to the plot\n",
        "plt.title('Distribution of Total Special Requests')\n",
        "\n",
        "# Labeling the x-axis\n",
        "plt.xlabel('Total Special Requests')\n",
        "\n",
        "# Labeling the y-axis\n",
        "plt.ylabel('Frequency')\n",
        "\n",
        "# Displaying the plot\n",
        "plt.show()"
      ],
      "metadata": {
        "id": "kuRf4wtuphqN"
      },
      "execution_count": null,
      "outputs": []
    },
    {
      "cell_type": "markdown",
      "source": [
        "##### 1. Why did you pick the specific chart?"
      ],
      "metadata": {
        "id": "bbFf2-_FphqN"
      }
    },
    {
      "cell_type": "markdown",
      "source": [
        "I chose a histogram with kernel density estimation to visualize the distribution of total special requests as it provides a clear representation of the frequency distribution of discrete values, allowing for insights into the concentration of special requests."
      ],
      "metadata": {
        "id": "loh7H2nzphqN"
      }
    },
    {
      "cell_type": "markdown",
      "source": [
        "##### 2. What is/are the insight(s) found from the chart?"
      ],
      "metadata": {
        "id": "_ouA3fa0phqN"
      }
    },
    {
      "cell_type": "markdown",
      "source": [
        "The histogram indicates that most bookings have a total of 0 to 2 special requests, with a decline in frequency as the number of special requests increases. The majority of customers seem to make fewer special requests, with a notable drop in frequency for higher numbers of requests.\n"
      ],
      "metadata": {
        "id": "VECbqPI7phqN"
      }
    },
    {
      "cell_type": "markdown",
      "source": [
        "##### 3. Will the gained insights help creating a positive business impact?\n",
        "Are there any insights that lead to negative growth? Justify with specific reason."
      ],
      "metadata": {
        "id": "Seke61FWphqN"
      }
    },
    {
      "cell_type": "markdown",
      "source": [
        "The insights can positively impact business operations by informing service offerings and resource allocation based on the typical distribution of total special requests. However, if the business focuses solely on accommodating higher numbers of special requests without considering the overall distribution, it may lead to operational challenges and increased costs, potentially resulting in negative growth. A balanced approach that aligns services with the most common request patterns could positively impact customer satisfaction and operational efficiency."
      ],
      "metadata": {
        "id": "DW4_bGpfphqN"
      }
    },
    {
      "cell_type": "markdown",
      "source": [
        "#### Chart - 7"
      ],
      "metadata": {
        "id": "PIIx-8_IphqN"
      }
    },
    {
      "cell_type": "code",
      "source": [
        "# Setting up the plot size\n",
        "plt.figure(figsize=(8, 5))\n",
        "\n",
        "# Creating a countplot for the distribution of cancellation status\n",
        "sns.countplot(x='is_canceled', data=auto_df_cleaned)\n",
        "\n",
        "# Adding a title to the plot\n",
        "plt.title('Count of Cancellation Status')\n",
        "\n",
        "# Labeling the x-axis\n",
        "plt.xlabel('Cancellation Status')\n",
        "\n",
        "# Labeling the y-axis\n",
        "plt.ylabel('Count')\n",
        "\n",
        "# Displaying the plot\n",
        "plt.show()"
      ],
      "metadata": {
        "id": "lqAIGUfyphqO"
      },
      "execution_count": null,
      "outputs": []
    },
    {
      "cell_type": "markdown",
      "source": [
        "##### 1. Why did you pick the specific chart?"
      ],
      "metadata": {
        "id": "t27r6nlMphqO"
      }
    },
    {
      "cell_type": "markdown",
      "source": [
        "I chose a count plot to visually represent the distribution of cancellation status, providing a clear comparison of the counts for canceled (1) and not canceled (0) bookings."
      ],
      "metadata": {
        "id": "iv6ro40sphqO"
      }
    },
    {
      "cell_type": "markdown",
      "source": [
        "##### 2. What is/are the insight(s) found from the chart?"
      ],
      "metadata": {
        "id": "r2jJGEOYphqO"
      }
    },
    {
      "cell_type": "markdown",
      "source": [
        "The count plot reveals that the count for non-canceled bookings (0) is notably higher, reaching up to 60,000, compared to canceled bookings (1). This insight indicates a higher prevalence of successful bookings without cancellations.\n"
      ],
      "metadata": {
        "id": "Po6ZPi4hphqO"
      }
    },
    {
      "cell_type": "markdown",
      "source": [
        "##### 3. Will the gained insights help creating a positive business impact?\n",
        "Are there any insights that lead to negative growth? Justify with specific reason."
      ],
      "metadata": {
        "id": "b0JNsNcRphqO"
      }
    },
    {
      "cell_type": "markdown",
      "source": [
        "The insights can positively impact business planning by highlighting the higher proportion of successful bookings. However, an excessive focus solely on the count of non-canceled bookings may lead to complacency in managing and mitigating cancellations. Negative growth could occur if strategies are not in place to address and understand the factors contributing to cancellations, impacting revenue and potentially customer satisfaction. A holistic approach that considers both successful and canceled bookings is crucial for effective business impact and growth."
      ],
      "metadata": {
        "id": "xvSq8iUTphqO"
      }
    },
    {
      "cell_type": "markdown",
      "source": [
        "#### Chart - 8"
      ],
      "metadata": {
        "id": "BZR9WyysphqO"
      }
    },
    {
      "cell_type": "code",
      "source": [
        "# Chart - 9 visualization code\n",
        "import matplotlib.pyplot as plt\n",
        "\n",
        "# Count the occurrences of each meal type\n",
        "meal_counts = auto_df_cleaned['meal'].value_counts()\n",
        "\n",
        "# Create a donut chart\n",
        "plt.figure(figsize=(8, 8))\n",
        "plt.pie(meal_counts, labels=meal_counts.index, autopct='%1.1f%%', startangle=90, wedgeprops=dict(width=0.3), colors=sns.color_palette('Set2'))\n",
        "plt.title('Distribution of Meal Types')\n",
        "plt.show()"
      ],
      "metadata": {
        "id": "TdPTWpAVphqO"
      },
      "execution_count": null,
      "outputs": []
    },
    {
      "cell_type": "markdown",
      "source": [
        "##### 1. Why did you pick the specific chart?"
      ],
      "metadata": {
        "id": "jj7wYXLtphqO"
      }
    },
    {
      "cell_type": "markdown",
      "source": [
        "I chose a donut chart to visually represent the distribution of meal types, offering a clear and concise illustration of the proportion of each meal category."
      ],
      "metadata": {
        "id": "Ob8u6rCTphqO"
      }
    },
    {
      "cell_type": "markdown",
      "source": [
        "##### 2. What is/are the insight(s) found from the chart?"
      ],
      "metadata": {
        "id": "eZrbJ2SmphqO"
      }
    },
    {
      "cell_type": "markdown",
      "source": [
        "The donut chart indicates that the majority of bookings (77.8%) have a 'Bed & Breakfast' (BB) meal type, followed by a smaller percentage (10.8%) for 'SC' (Self-Catering). This insight provides a quick overview of the prevalent meal types in the dataset."
      ],
      "metadata": {
        "id": "mZtgC_hjphqO"
      }
    },
    {
      "cell_type": "markdown",
      "source": [
        "##### 3. Will the gained insights help creating a positive business impact?\n",
        "Are there any insights that lead to negative growth? Justify with specific reason."
      ],
      "metadata": {
        "id": "rFu4xreNphqO"
      }
    },
    {
      "cell_type": "markdown",
      "source": [
        "The insights can positively impact business operations by informing catering and service strategies based on the prevalent meal types. However, if the business focuses solely on the most popular meal type (BB), it may neglect the potential demand for other meal options, potentially leading to negative growth if customer preferences are not adequately addressed. A balanced approach catering to a variety of meal types could positively impact customer satisfaction and overall business growth."
      ],
      "metadata": {
        "id": "UBkgCfiaHHcM"
      }
    },
    {
      "cell_type": "markdown",
      "source": [
        "Chart-9"
      ],
      "metadata": {
        "id": "5dO7kPHsNhQf"
      }
    },
    {
      "cell_type": "code",
      "source": [
        "import matplotlib.pyplot as plt\n",
        "import seaborn as sns\n",
        "\n",
        "# Grouping data by hotel type and calculating the average lead time for each\n",
        "average_lead_time = auto_df_cleaned.groupby('hotel')['lead_time'].mean()\n",
        "\n",
        "# Plotting a pie chart\n",
        "plt.figure(figsize=(8, 8))\n",
        "plt.pie(average_lead_time, labels=average_lead_time.index, autopct='%1.1f%%', startangle=90, colors=sns.color_palette('pastel'))\n",
        "plt.title('Average Lead Time by Hotel')\n",
        "plt.show()\n"
      ],
      "metadata": {
        "id": "ccu4-JiwSy3l"
      },
      "execution_count": null,
      "outputs": []
    },
    {
      "cell_type": "markdown",
      "source": [
        "Why did you pick the specific chart?\n",
        "\n",
        "\n",
        "I chose a pie chart to visually compare the average lead time between Resort Hotel and City Hotel, as it provides a clear representation of the proportion of lead time for each hotel type."
      ],
      "metadata": {
        "id": "LiEP9bmILfRF"
      }
    },
    {
      "cell_type": "markdown",
      "source": [
        "What is/are the insights found from the chart?\n",
        "\n",
        "\n",
        "The pie chart reveals that Resort Hotel has a slightly higher average lead time, constituting 51.8%, compared to City Hotel with 48.2%. This insight highlights the distribution of lead time between the two hotel types"
      ],
      "metadata": {
        "id": "MVz8awxULiM0"
      }
    },
    {
      "cell_type": "markdown",
      "source": [
        "Will the gained insights help create a positive business impact? Are there any insights that lead to negative growth? Justify with a specific reason.\n",
        "\n",
        "\n",
        "\n",
        "The gained insights can help optimize operational strategies based on lead time patterns for each hotel type. However, potential negative impacts may arise if operational planning is exclusively tailored to the average lead time without considering variations and other factors influencing bookings. A more comprehensive approach, considering factors like seasonality and customer preferences, is essential to avoid potential negative growth due to inadequate operational responsiveness. Overall, utilizing the insights thoughtfully can contribute to positive business impact by aligning services with customer booking patterns."
      ],
      "metadata": {
        "id": "l_vpqn02LpF9"
      }
    },
    {
      "cell_type": "markdown",
      "source": [
        "Chart - 10"
      ],
      "metadata": {
        "id": "P_-nDQ8ENnEE"
      }
    },
    {
      "cell_type": "code",
      "source": [
        "import matplotlib.pyplot as plt\n",
        "import seaborn as sns\n",
        "\n",
        "# Assuming your DataFrame is named 'auto_df_cleaned'\n",
        "# Replace 'auto_df_cleaned' with the actual variable name if it's different\n",
        "\n",
        "# Create a new column 'revenue' by multiplying 'adr' with the total stay duration\n",
        "auto_df_cleaned['revenue'] = auto_df_cleaned['adr'] * (auto_df_cleaned['stays_in_weekend_nights'] + auto_df_cleaned['stays_in_week_nights'])\n",
        "\n",
        "# Group data by hotel type and calculate the total revenue for each\n",
        "revenue_by_hotel = auto_df_cleaned.groupby('hotel')['revenue'].sum().reset_index()\n",
        "\n",
        "# Plotting a bar plot\n",
        "plt.figure(figsize=(8, 6))\n",
        "sns.barplot(x='hotel', y='revenue', data=revenue_by_hotel, palette='viridis')\n",
        "plt.title('Total Revenue by Hotel Type')\n",
        "plt.xlabel('Hotel Type')\n",
        "plt.ylabel('Total Revenue')\n",
        "plt.show()"
      ],
      "metadata": {
        "id": "00xHY1ltLud2"
      },
      "execution_count": null,
      "outputs": []
    },
    {
      "cell_type": "markdown",
      "source": [
        "Why did you pick the specific chart?\n",
        "\n",
        "\n",
        "I chose a bar plot to visually compare the total revenue between City Hotel and Resort Hotel, as it provides an effective way to illustrate the revenue difference in a clear and easily interpretable format."
      ],
      "metadata": {
        "id": "jfuQUAiwMlcZ"
      }
    },
    {
      "cell_type": "markdown",
      "source": [
        "What is/are the insight(s) found from the chart?\n",
        "\n",
        "\n",
        "The bar plot reveals that City Hotel generates higher total revenue compared to Resort Hotel. This insight indicates a revenue disparity between the two hotel types, with City Hotel being the more profitable."
      ],
      "metadata": {
        "id": "br4-SGYQMnhN"
      }
    },
    {
      "cell_type": "markdown",
      "source": [
        "Will the gained insights help create a positive business impact? Are there any insights that lead to negative growth? Justify with a specific reason.\n",
        "\n",
        "\n",
        "The gained insight into higher revenue for City Hotel can positively impact business strategies by informing resource allocation, marketing efforts, and service enhancements tailored to the more profitable hotel type. However, potential negative growth may arise if the business solely focuses on City Hotel without considering the specific strengths and market dynamics of Resort Hotel. A balanced approach that leverages the strengths of each hotel type could help mitigate potential negative impacts and contribute to overall positive business growth."
      ],
      "metadata": {
        "id": "rjNAqnRWMsdm"
      }
    },
    {
      "cell_type": "markdown",
      "source": [
        "Chart-11"
      ],
      "metadata": {
        "id": "i6LV8inYREUg"
      }
    },
    {
      "cell_type": "code",
      "source": [
        "import pandas as pd\n",
        "import matplotlib.pyplot as plt\n",
        "import seaborn as sns\n",
        "\n",
        "# Grouping data by distribution channel and calculating cancellation percentage for each channel\n",
        "cancellation_percentage = auto_df_cleaned.groupby('distribution_channel')['is_canceled'].mean() * 100\n",
        "\n",
        "# Sorting channels based on cancellation percentage in descending order\n",
        "sorted_channels = cancellation_percentage.sort_values(ascending=False)\n",
        "\n",
        "# Plotting a bar chart\n",
        "plt.figure(figsize=(10, 6))\n",
        "sns.barplot(x=sorted_channels.index, y=sorted_channels, palette='viridis')\n",
        "plt.title('Cancellation Percentage by Distribution Channel')\n",
        "plt.xlabel('Distribution Channel')\n",
        "plt.ylabel('Cancellation Percentage')\n",
        "plt.show()\n",
        "\n",
        "# Displaying the distribution channel with the highest cancellation percentage\n",
        "highest_cancellation_channel = sorted_channels.idxmax()\n",
        "print(f\"The distribution channel with the highest cancellation percentage is: {highest_cancellation_channel}\")\n"
      ],
      "metadata": {
        "id": "JorK4tRqQ2YY"
      },
      "execution_count": null,
      "outputs": []
    },
    {
      "cell_type": "markdown",
      "source": [
        "Why did you pick the specific chart?\n",
        "\n",
        "\n",
        "The bar chart was chosen to clearly visualize and compare cancellation percentages across different distribution channels. Its simplicity and effectiveness make it suitable for presenting the distribution channel with the highest cancellation percentage."
      ],
      "metadata": {
        "id": "sPL5VYLARuvT"
      }
    },
    {
      "cell_type": "markdown",
      "source": [
        "What is/are the insight(s) found from the chart?  \n",
        "\n",
        "\n",
        "The chart indicates that the distribution channel labeled as \"Undefined\" has the highest cancellation percentage, with TA/TO (Travel Agents/Tour Operators) being the second-highest. This insight highlights the significance of these channels in terms of booking cancellations."
      ],
      "metadata": {
        "id": "-vUWiPcERzW6"
      }
    },
    {
      "cell_type": "markdown",
      "source": [
        "Will the gained insights help create a positive business impact? Are there any insights that lead to negative growth? Justify with a specific reason.\n",
        "\n",
        "\n",
        "The insights can help inform business strategies by addressing the challenges associated with the \"Undefined\" distribution channel and TA/TO. Understanding and mitigating factors contributing to higher cancellations in these channels could lead to positive business impact, such as targeted improvements in service offerings, customer communication, or relationship management."
      ],
      "metadata": {
        "id": "YALH-8GtR4dc"
      }
    },
    {
      "cell_type": "markdown",
      "source": [
        "Chart - 12"
      ],
      "metadata": {
        "id": "XfXyUmab8bMR"
      }
    },
    {
      "cell_type": "code",
      "source": [
        "import matplotlib.pyplot as plt\n",
        "import seaborn as sns\n",
        "\n",
        "\n",
        "# Count the occurrences of each country\n",
        "top_countries = auto_df_cleaned['country'].value_counts().head(10)\n",
        "\n",
        "# Setting up the plot size\n",
        "plt.figure(figsize=(12, 6))\n",
        "\n",
        "# Creating a bar chart for the top countries with the highest number of guests\n",
        "sns.barplot(x=top_countries.index, y=top_countries, palette='viridis')\n",
        "\n",
        "# Adding a title to the plot\n",
        "plt.title('Top 10 Countries with the Highest Number of Guests')\n",
        "\n",
        "# Labeling the x-axis\n",
        "plt.xlabel('Country')\n",
        "\n",
        "# Labeling the y-axis\n",
        "plt.ylabel('Number of Guests')\n",
        "\n",
        "# Rotating x-axis labels for better readability\n",
        "plt.xticks(rotation=45, ha='right')\n",
        "\n",
        "# Displaying the plot\n",
        "plt.show()\n"
      ],
      "metadata": {
        "id": "h54MBNtcXmz2"
      },
      "execution_count": null,
      "outputs": []
    },
    {
      "cell_type": "markdown",
      "source": [
        "Why did you pick the specific chart?\n",
        "\n",
        "\n",
        "The bar chart was chosen because it effectively visualizes the distribution of guests across different countries, highlighting the top 10 countries with the highest number of guests. Bar charts are particularly suitable for displaying the frequency or count of categorical data, such as the occurrences of guests from different countries."
      ],
      "metadata": {
        "id": "hLRSJDl2YHzG"
      }
    },
    {
      "cell_type": "markdown",
      "source": [
        "What is/are the insight(s) found from the chart?\n",
        "\n",
        "\n",
        "The insight from the chart is that Portugal (PRT) has the highest number of guests, followed by the United Kingdom (GBR). The chart provides a quick and clear comparison of the guest counts for the top 10 countries, allowing for easy identification of the most significant contributors to the hotel's guest population."
      ],
      "metadata": {
        "id": "phR2seoaYKNx"
      }
    },
    {
      "cell_type": "markdown",
      "source": [
        "Will the gained insights help creating a positive business impact? Are there any insights that lead to negative growth? Justify with a specific reason.\n",
        "\n",
        "\n",
        "The gained insights can potentially have a positive business impact. Knowing the countries with the highest number of guests allows the hotel management to tailor marketing strategies, services, and communication to better meet the preferences and needs of guests from these countries. For example, targeted advertising in regions with high guest counts can lead to increased bookings."
      ],
      "metadata": {
        "id": "z1J82N4UYQod"
      }
    },
    {
      "cell_type": "markdown",
      "source": [
        "#### Chart - 13"
      ],
      "metadata": {
        "id": "YJ55k-q6phqO"
      }
    },
    {
      "cell_type": "markdown",
      "source": [
        "Bivariate Analysis"
      ],
      "metadata": {
        "id": "xofE6DEQ8Wpf"
      }
    },
    {
      "cell_type": "markdown",
      "source": [
        "\n",
        "What is the most preferred meal type among customers?"
      ],
      "metadata": {
        "id": "T00kMdXBCUGO"
      }
    },
    {
      "cell_type": "code",
      "source": [
        "# Setting up the plot size\n",
        "plt.figure(figsize=(12, 6))\n",
        "\n",
        "# Grouping data by arrival date and calculating mean ADR for each month\n",
        "adr_trends = auto_df_cleaned.groupby('arrival_date_month')['adr'].mean().reset_index()\n",
        "\n",
        "# Creating a line chart for ADR trends over time\n",
        "sns.lineplot(x='arrival_date_month', y='adr', data=adr_trends, marker='o', color='skyblue')\n",
        "\n",
        "# Adding a title to the plot\n",
        "plt.title('ADR Trends Over Time')\n",
        "\n",
        "# Labeling the x-axis\n",
        "plt.xlabel('Month')\n",
        "\n",
        "# Labeling the y-axis\n",
        "plt.ylabel('Average Daily Rate (ADR)')\n",
        "\n",
        "# Displaying the plot\n",
        "plt.show()"
      ],
      "metadata": {
        "id": "B2aS4O1ophqO"
      },
      "execution_count": null,
      "outputs": []
    },
    {
      "cell_type": "markdown",
      "source": [
        "##### 1. Why did you pick the specific chart?"
      ],
      "metadata": {
        "id": "gCFgpxoyphqP"
      }
    },
    {
      "cell_type": "markdown",
      "source": [
        "\n",
        "I chose a line chart to visualize the Average Daily Rate (ADR) trends over time as it provides a clear representation of how ADR fluctuates across different months, enabling a straightforward analysis of seasonal variations."
      ],
      "metadata": {
        "id": "TVxDimi2phqP"
      }
    },
    {
      "cell_type": "markdown",
      "source": [
        "##### 2. What is/are the insight(s) found from the chart?"
      ],
      "metadata": {
        "id": "OVtJsKN_phqQ"
      }
    },
    {
      "cell_type": "markdown",
      "source": [
        "The line chart indicates that ADR experiences notable peaks from April to August, suggesting a high-demand season during these months. Additionally, there's a slight increase in ADR from January to July, showcasing another period of elevated pricing."
      ],
      "metadata": {
        "id": "ngGi97qjphqQ"
      }
    },
    {
      "cell_type": "markdown",
      "source": [
        "##### 3. Will the gained insights help creating a positive business impact?\n",
        "Are there any insights that lead to negative growth? Justify with specific reason."
      ],
      "metadata": {
        "id": "lssrdh5qphqQ"
      }
    },
    {
      "cell_type": "markdown",
      "source": [
        "The insights can positively impact business strategies by enabling pricing optimization and resource allocation during high-demand seasons. However, if ADR is consistently high without corresponding increases in service quality or customer value, it may lead to negative growth as customers might seek more affordable alternatives. Balancing pricing strategies with customer satisfaction and value proposition is crucial to ensure positive business impact over the long term."
      ],
      "metadata": {
        "id": "tBpY5ekJphqQ"
      }
    },
    {
      "cell_type": "markdown",
      "source": [
        "#### Chart - 14"
      ],
      "metadata": {
        "id": "U2RJ9gkRphqQ"
      }
    },
    {
      "cell_type": "code",
      "source": [
        "\n",
        "# Setting up the plot size\n",
        "plt.figure(figsize=(14, 8))\n",
        "\n",
        "# Creating a grouped bar chart for market segment vs. ADR\n",
        "sns.barplot(x='market_segment', y='adr', hue='hotel', data=auto_df_cleaned, palette='viridis')\n",
        "\n",
        "# Adding a title to the plot\n",
        "plt.title('Market Segment vs. ADR')\n",
        "\n",
        "# Labeling the x-axis\n",
        "plt.xlabel('Market Segment')\n",
        "\n",
        "# Labeling the y-axis\n",
        "plt.ylabel('ADR')\n",
        "\n",
        "# Displaying the plot\n",
        "plt.show()"
      ],
      "metadata": {
        "id": "GM7a4YP4phqQ"
      },
      "execution_count": null,
      "outputs": []
    },
    {
      "cell_type": "markdown",
      "source": [
        "##### 1. Why did you pick the specific chart?"
      ],
      "metadata": {
        "id": "1M8mcRywphqQ"
      }
    },
    {
      "cell_type": "markdown",
      "source": [
        "The grouped bar chart was chosen to visually compare the average daily rate (ADR) across different market segments, with a further breakdown based on hotel types (City Hotel and Resort Hotel). This type of chart is effective for showing the relationship between categorical variables and a numerical variable, allowing for easy comparison and identification of patterns."
      ],
      "metadata": {
        "id": "8agQvks0phqQ"
      }
    },
    {
      "cell_type": "markdown",
      "source": [
        "##### 2. What is/are the insight(s) found from the chart?"
      ],
      "metadata": {
        "id": "tgIPom80phqQ"
      }
    },
    {
      "cell_type": "markdown",
      "source": [
        "or the \"Direct\" market segment, the ADR is higher for City Hotel compared to Resort Hotel.\n",
        "In the \"Online TA\" (Travel Agents) market segment, ADR is similar between City Hotel and Resort Hotel.\n",
        "Overall, the ADR in the \"Direct\" market segment is higher for City Hotel, while the ADR in the \"Online TA\" market segment is more comparable between the two hotel types."
      ],
      "metadata": {
        "id": "Qp13pnNzphqQ"
      }
    },
    {
      "cell_type": "markdown",
      "source": [
        "##### 3. Will the gained insights help creating a positive business impact?\n",
        "Are there any insights that lead to negative growth? Justify with specific reason."
      ],
      "metadata": {
        "id": "JMzcOPDDphqR"
      }
    },
    {
      "cell_type": "markdown",
      "source": [
        "Positive Impact: The hotel management can use this information to tailor pricing strategies based on market segments. For the \"Direct\" segment, where City Hotel has a higher ADR, targeted marketing and promotional activities may be implemented to attract more direct bookings for City Hotel.\n",
        "\n",
        "Negative Growth Consideration: If the ADR is significantly higher for City Hotel in a particular market segment, it might be essential to carefully manage pricing strategies to ensure competitiveness and avoid potential negative impacts on occupancy rates. Additionally, strategies to increase the ADR for Resort Hotel in specific market segments may be explored to balance revenue streams."
      ],
      "metadata": {
        "id": "R4Ka1PC2phqR"
      }
    },
    {
      "cell_type": "markdown",
      "source": [
        "Chart - 15"
      ],
      "metadata": {
        "id": "I-4VI6LNuiNg"
      }
    },
    {
      "cell_type": "code",
      "source": [
        "import matplotlib.pyplot as plt\n",
        "import seaborn as sns\n",
        "\n",
        "\n",
        "# Create a cross-tabulation for 'customer_type' and 'is_repeated_guest'\n",
        "cross_tab = pd.crosstab(auto_df_cleaned['customer_type'], auto_df_cleaned['is_repeated_guest'])\n",
        "\n",
        "# Plotting a stacked bar chart\n",
        "cross_tab.plot(kind='bar', stacked=True, colormap='viridis', figsize=(10, 6))\n",
        "\n",
        "# Adding a title to the plot\n",
        "plt.title('Customer Type vs. Repeated Guest Status')\n",
        "\n",
        "# Labeling the x-axis\n",
        "plt.xlabel('Customer Type')\n",
        "\n",
        "# Labeling the y-axis\n",
        "plt.ylabel('Count')\n",
        "\n",
        "# Displaying the plot\n",
        "plt.show()\n"
      ],
      "metadata": {
        "id": "ugmeZWG8lKTS"
      },
      "execution_count": null,
      "outputs": []
    },
    {
      "cell_type": "markdown",
      "source": [
        "Why did you pick the specific chart?\n",
        "\n",
        "The stacked bar chart was chosen as it effectively illustrates the relationship between 'Customer Type' and 'Repeated Guest Status.' This visualization allows for a clear comparison of counts between repeated and non-repeated guests within each customer type, offering a comprehensive view of the distribution."
      ],
      "metadata": {
        "id": "saRhmARTumVf"
      }
    },
    {
      "cell_type": "markdown",
      "source": [
        "What is/are the insight(s) found from the chart?\n",
        "\n",
        "Transistent Customer Type Dominance: The 'Transient' customer type is prevalent across both repeated and non-repeated guest categories, indicating a significant presence of this segment.\n",
        "\n",
        "Repetition Across Customer Types: The presence of repeated guests is observed in various customer types, with both 'Transient' and 'Transient-Party' showing considerable counts for repeated guests."
      ],
      "metadata": {
        "id": "pkHx2UFbu6Ip"
      }
    },
    {
      "cell_type": "markdown",
      "source": [
        "Will the gained insights help creating a positive business impact?\n",
        "\n",
        "Positive Impact on Customized Services: Understanding the dominance of 'Transient' customers suggests an opportunity to tailor services for this significant segment, potentially leading to improved satisfaction and loyalty.\n",
        "\n",
        "Enhanced Repeated Guest Strategies: Recognizing the presence of repeated guests across different customer types allows the business to implement targeted strategies, such as loyalty programs and personalized offerings, positively impacting customer retention and revenue."
      ],
      "metadata": {
        "id": "D0gRQXRDu-oP"
      }
    },
    {
      "cell_type": "markdown",
      "source": [
        "#### Chart - 16"
      ],
      "metadata": {
        "id": "x-EpHcCOp1ci"
      }
    },
    {
      "cell_type": "code",
      "source": [
        "# Setting up the plot size\n",
        "plt.figure(figsize=(10, 6))\n",
        "\n",
        "# Creating a scatter plot for ADR vs. Lead Time with different colors for cancellation status\n",
        "sns.scatterplot(x='lead_time', y='adr', hue='is_canceled', data=auto_df_cleaned, palette='Set1', alpha=0.7)\n",
        "\n",
        "# Adding a title to the plot\n",
        "plt.title('Scatter Plot: ADR vs. Lead Time')\n",
        "\n",
        "# Labeling the x-axis\n",
        "plt.xlabel('Lead Time')\n",
        "\n",
        "# Labeling the y-axis\n",
        "plt.ylabel('ADR')\n",
        "\n",
        "# Displaying the plot\n",
        "plt.show()"
      ],
      "metadata": {
        "id": "mAQTIvtqp1cj"
      },
      "execution_count": null,
      "outputs": []
    },
    {
      "cell_type": "markdown",
      "source": [
        "##### 1. Why did you pick the specific chart?"
      ],
      "metadata": {
        "id": "X_VqEhTip1ck"
      }
    },
    {
      "cell_type": "markdown",
      "source": [
        "The scatter plot was chosen to visualize the relationship between the average daily rate (ADR) and lead time, with the additional dimension of cancellation status represented by different colors. Scatter plots are effective for understanding the distribution of two continuous variables and identifying patterns, clusters, or trends in the data."
      ],
      "metadata": {
        "id": "-vsMzt_np1ck"
      }
    },
    {
      "cell_type": "markdown",
      "source": [
        "##### 2. What is/are the insight(s) found from the chart?"
      ],
      "metadata": {
        "id": "8zGJKyg5p1ck"
      }
    },
    {
      "cell_type": "markdown",
      "source": [
        "For bookings with cancellation status 0 (not canceled), there is a higher concentration of data points (scatters) across various lead times and ADR values.\n",
        "Bookings with cancellation status 1 (canceled) are more scattered and show less concentration compared to non-canceled bookings.\n",
        "The majority of cancellations (is_canceled=1) tend to occur in a specific range of lead times and ADR values."
      ],
      "metadata": {
        "id": "ZYdMsrqVp1ck"
      }
    },
    {
      "cell_type": "markdown",
      "source": [
        "##### 3. Will the gained insights help creating a positive business impact?\n",
        "Are there any insights that lead to negative growth? Justify with specific reason."
      ],
      "metadata": {
        "id": "PVzmfK_Ep1ck"
      }
    },
    {
      "cell_type": "markdown",
      "source": [
        "Positive Impact:\n",
        "\n",
        "The insights can help the hotel management understand the patterns associated with cancellations. Strategies can be developed to target specific lead time ranges or ADR values where cancellations are more prevalent. For example, offering flexible cancellation policies or targeted promotions for bookings in the identified range may mitigate cancellations.\n",
        "\n",
        "Negative Growth Consideration:\n",
        "\n",
        "If a significant number of cancellations are concentrated in a particular lead time or ADR range, it could indicate potential issues with pricing, booking policies, or customer satisfaction. Failure to address these issues may lead to negative growth, as high cancellation rates can impact revenue and occupancy rates."
      ],
      "metadata": {
        "id": "druuKYZpp1ck"
      }
    },
    {
      "cell_type": "markdown",
      "source": [
        "#### Chart - 17"
      ],
      "metadata": {
        "id": "n3dbpmDWp1ck"
      }
    },
    {
      "cell_type": "code",
      "source": [
        "group_by_dc_hotel = auto_df_cleaned.groupby(['distribution_channel', 'hotel'])\n",
        "d5 = pd.DataFrame(round((group_by_dc_hotel['adr']).agg(np.mean), 2)).reset_index().rename(columns={'adr': 'avg_adr'})\n",
        "\n",
        "plt.figure(figsize=(7, 5))\n",
        "sns.barplot(x=d5['distribution_channel'], y=d5['avg_adr'], hue=d5['hotel'], palette='Set2')  # Change the palette as needed\n",
        "plt.ylim(40, 140)\n",
        "plt.title('Average Daily Rate (ADR) by Distribution Channel and Hotel')  # Change the title as needed\n",
        "plt.xlabel('Distribution Channel')\n",
        "plt.ylabel('Average Daily Rate (ADR)')\n",
        "plt.show()\n",
        "\n",
        "\n",
        "\n",
        "\n"
      ],
      "metadata": {
        "id": "lU1jFA7qLgwT"
      },
      "execution_count": null,
      "outputs": []
    },
    {
      "cell_type": "markdown",
      "source": [
        "##### 1. Why did you pick the specific chart?"
      ],
      "metadata": {
        "id": "ylSl6qgtp1ck"
      }
    },
    {
      "cell_type": "markdown",
      "source": [
        "The grouped bar chart was selected to visually compare the average daily rate (ADR) across different distribution channels for both City Hotel and Resort Hotel. This type of chart is effective for displaying the relationship between categorical variables (distribution channel, hotel) and a numerical variable (ADR), allowing for easy comparison of ADR values across various channels and hotel types."
      ],
      "metadata": {
        "id": "m2xqNkiQp1ck"
      }
    },
    {
      "cell_type": "markdown",
      "source": [
        "##### 2. What is/are the insight(s) found from the chart?"
      ],
      "metadata": {
        "id": "ZWILFDl5p1ck"
      }
    },
    {
      "cell_type": "markdown",
      "source": [
        "For City Hotel, the ADR is highest for the GDS (Global Distribution System) distribution channel, followed by the Direct channel.\n",
        "For Resort Hotel, the ADR is highest for the undefined distribution channel, followed by the Direct channel."
      ],
      "metadata": {
        "id": "x-lUsV2mp1ck"
      }
    },
    {
      "cell_type": "markdown",
      "source": [
        "##### 3. Will the gained insights help creating a positive business impact?\n",
        "Are there any insights that lead to negative growth? Justify with specific reason."
      ],
      "metadata": {
        "id": "M7G43BXep1ck"
      }
    },
    {
      "cell_type": "markdown",
      "source": [
        "The insights can guide pricing and marketing strategies for different distribution channels. For instance, if GDS has a higher ADR for City Hotel, targeted marketing efforts or promotions may be implemented to attract more bookings through this channel.\n",
        "Negative Growth Consideration:\n",
        "\n",
        "If there are inconsistencies or unexpected patterns in ADR across distribution channels, it might signal potential issues with pricing strategies or customer preferences. Ignoring such insights could lead to negative growth, as misaligned pricing or marketing strategies may result in reduced bookings or revenue"
      ],
      "metadata": {
        "id": "5wwDJXsLp1cl"
      }
    },
    {
      "cell_type": "markdown",
      "source": [
        "#### Chart - 18"
      ],
      "metadata": {
        "id": "Ag9LCva-p1cl"
      }
    },
    {
      "cell_type": "code",
      "source": [
        "import matplotlib.pyplot as plt\n",
        "import seaborn as sns\n",
        "\n",
        "# Calculate total stay duration for each reservation\n",
        "auto_df_cleaned['total_stay'] = auto_df_cleaned['stays_in_weekend_nights'] + auto_df_cleaned['stays_in_week_nights']\n",
        "\n",
        "# Group by hotel type and sum the total stay duration\n",
        "grouped_data = auto_df_cleaned.groupby(['hotel', 'reservation_status'])['total_stay'].sum().unstack()\n",
        "\n",
        "# Plotting a stacked bar chart\n",
        "fig, ax = plt.subplots(figsize=(10, 6))\n",
        "grouped_data.plot(kind='bar', stacked=True, ax=ax, color=['skyblue', 'lightcoral', 'lightgreen'])\n",
        "\n",
        "# Adding labels and title\n",
        "plt.xlabel('Hotel Type')\n",
        "plt.ylabel('Total Stay Duration')\n",
        "plt.title('Total Stay Duration for City Hotel and Resort Hotel')\n",
        "plt.legend(title='Reservation Status', bbox_to_anchor=(1.05, 1), loc='upper left')\n",
        "\n",
        "# Display the plot\n",
        "plt.show()\n",
        "\n",
        "\n",
        "\n",
        "\n",
        "\n",
        "\n"
      ],
      "metadata": {
        "id": "EUfxeq9-p1cl"
      },
      "execution_count": null,
      "outputs": []
    },
    {
      "cell_type": "markdown",
      "source": [
        "##### 1. Why did you pick the specific chart?"
      ],
      "metadata": {
        "id": "E6MkPsBcp1cl"
      }
    },
    {
      "cell_type": "markdown",
      "source": [
        "The stacked bar chart was chosen to visually represent the total stay duration for City Hotel and Resort Hotel, categorized by different reservation statuses. This type of chart is effective for illustrating the distribution of stay durations across various reservation statuses and hotel types."
      ],
      "metadata": {
        "id": "V22bRsFWp1cl"
      }
    },
    {
      "cell_type": "markdown",
      "source": [
        "##### 2. What is/are the insight(s) found from the chart?"
      ],
      "metadata": {
        "id": "2cELzS2fp1cl"
      }
    },
    {
      "cell_type": "markdown",
      "source": [
        "For City Hotel, the total stay duration is higher across all reservation statuses compared to Resort Hotel.\n",
        "The \"Check-Out\" reservation status contributes significantly to the total stay duration for both City Hotel and Resort Hotel.\n",
        "The \"Canceled\" reservation status has a higher impact on the total stay duration for City Hotel compared to Resort Hotel."
      ],
      "metadata": {
        "id": "ozQPc2_Ip1cl"
      }
    },
    {
      "cell_type": "markdown",
      "source": [
        "##### 3. Will the gained insights help creating a positive business impact?\n",
        "Are there any insights that lead to negative growth? Justify with specific reason."
      ],
      "metadata": {
        "id": "3MPXvC8up1cl"
      }
    },
    {
      "cell_type": "markdown",
      "source": [
        "Positive Impact:\n",
        "\n",
        "The insights can guide resource allocation and planning for City Hotel, especially in managing stays associated with the \"Canceled\" reservation status. Strategies to minimize cancellations or optimize room allocation could positively impact revenue and resource utilization.\n",
        "Negative Growth Consideration:\n",
        "\n",
        "The higher total stay duration for the \"Canceled\" reservation status in City Hotel may indicate potential revenue loss due to cancellations. Addressing the factors contributing to cancellations, such as flexible booking policies or targeted promotions, is crucial to mitigate negative growth."
      ],
      "metadata": {
        "id": "GL8l1tdLp1cl"
      }
    },
    {
      "cell_type": "markdown",
      "source": [
        "Chart-19"
      ],
      "metadata": {
        "id": "xYspQP-A9BEs"
      }
    },
    {
      "cell_type": "code",
      "source": [
        "import matplotlib.pyplot as plt\n",
        "import seaborn as sns\n",
        "\n",
        "# Assuming your DataFrame is named 'auto_df_cleaned'\n",
        "# Replace 'auto_df_cleaned' with the actual variable name if it's different\n",
        "\n",
        "# Count the occurrences of each country\n",
        "top_countries = auto_df_cleaned['country'].value_counts().head(10)\n",
        "\n",
        "# Calculate the average ADR for each country\n",
        "avg_adr_by_country = auto_df_cleaned.groupby('country')['adr'].mean().loc[top_countries.index]\n",
        "\n",
        "# Setting up the plot size\n",
        "plt.figure(figsize=(12, 6))\n",
        "\n",
        "# Creating a bar chart for the top countries with color-coded bars based on ADR\n",
        "sns.barplot(x=top_countries.index, y=top_countries, hue=avg_adr_by_country, palette='viridis')\n",
        "\n",
        "# Adding a title to the plot\n",
        "plt.title('Top 10 Countries with the Highest Number of Guests and Average Daily Rate (ADR)')\n",
        "\n",
        "# Labeling the x-axis\n",
        "plt.xlabel('Country')\n",
        "\n",
        "# Labeling the y-axis\n",
        "plt.ylabel('Number of Guests')\n",
        "\n",
        "# Rotating x-axis labels for better readability\n",
        "plt.xticks(rotation=45, ha='right')\n",
        "\n",
        "# Adding a legend for the ADR color scale\n",
        "plt.legend(title='Average Daily Rate (ADR)')\n",
        "\n",
        "# Displaying the plot\n",
        "plt.show()\n"
      ],
      "metadata": {
        "id": "aV6VJRflYxmw"
      },
      "execution_count": null,
      "outputs": []
    },
    {
      "cell_type": "markdown",
      "source": [
        "Why did you pick the specific chart?\n",
        "\n",
        "\n",
        "The bar chart with color-coded bars was chosen to simultaneously display both the number of guests and the average daily rate (ADR) for the top 10 countries. This type of chart provides a clear visual representation of two related metrics for each country, making it easy to compare the number of guests and ADR across different countries."
      ],
      "metadata": {
        "id": "iR9mw7hSxTWa"
      }
    },
    {
      "cell_type": "markdown",
      "source": [
        "What is/are the insight(s) found from the chart?\n",
        "\n",
        "Portugal (PRT) has the highest ADR among the top 10 countries, indicating that guests from Portugal tend to pay more on average for their stay.\n",
        "While the number of guests from Portugal is not the highest, the combination of a relatively high number of guests and a high ADR contributes to Portugal having a significant impact on overall revenue.\n",
        "The United Kingdom (GBR) follows Portugal with a substantial number of guests and a relatively high ADR."
      ],
      "metadata": {
        "id": "-tKQKrLgxXyj"
      }
    },
    {
      "cell_type": "markdown",
      "source": [
        "Will the gained insights help create a positive business impact? Are there any insights that lead to negative growth? Justify with a specific reason.\n",
        "\n",
        "\n",
        "Positive Impact:\n",
        "\n",
        "The insights can guide targeted marketing efforts and pricing strategies for countries with high ADR. For example, implementing promotional campaigns or loyalty programs for guests from Portugal could further boost revenue.\n",
        "\n",
        "Negative Growth Consideration:\n",
        "\n",
        "While high ADR is positive for revenue, if the strategies to attract guests from countries with lower ADR are neglected, it may lead to missed opportunities for increasing occupancy and overall revenue. Balancing strategies to cater to diverse guest segments is essential to prevent negative growth"
      ],
      "metadata": {
        "id": "QP7q5YSoxi3C"
      }
    },
    {
      "cell_type": "markdown",
      "source": [
        "Multi variate analysis"
      ],
      "metadata": {
        "id": "PUcxK6y5ZDhL"
      }
    },
    {
      "cell_type": "markdown",
      "source": [
        "#### Chart - 20  - Correlation Heatmap"
      ],
      "metadata": {
        "id": "NC_X3p0fY2L0"
      }
    },
    {
      "cell_type": "code",
      "source": [
        "# Correlation Heatmap visualization code\n",
        "correlation_matrix = auto_df_cleaned.corr()\n",
        "plt.figure(figsize=(15, 10))\n",
        "sns.heatmap(correlation_matrix, annot=True, cmap='coolwarm', fmt='.2f')\n",
        "plt.title('Correlation Heatmap')\n",
        "plt.show()\n",
        "\n"
      ],
      "metadata": {
        "id": "xyC9zolEZNRQ"
      },
      "execution_count": null,
      "outputs": []
    },
    {
      "cell_type": "markdown",
      "source": [
        "##### 1. Why did you pick the specific chart?"
      ],
      "metadata": {
        "id": "GbV7Njna-OWR"
      }
    },
    {
      "cell_type": "markdown",
      "source": [
        "The correlation heatmap was selected to visually represent the correlation coefficients between different variables in the dataset. This type of chart is effective in identifying relationships and dependencies between variables, helping to understand how changes in one variable may be associated with changes in another."
      ],
      "metadata": {
        "id": "m2R52BQk4dAM"
      }
    },
    {
      "cell_type": "markdown",
      "source": [
        "##### 2. What is/are the insight(s) found from the chart?"
      ],
      "metadata": {
        "id": "YPEH6qLeZNRQ"
      }
    },
    {
      "cell_type": "markdown",
      "source": [
        "The correlation heatmap reveals valuable insights into the relationships between various variables in the dataset. Notably, a perfect positive correlation along the diagonal indicates that each variable is perfectly correlated with itself, as expected. Additionally, the moderate negative correlation of -0.52 between 'arrival_date_year' and 'arrival_date_week_number' suggests a seasonal pattern where the week number within a year tends to decrease as the years progress. These insights can guide strategic decision-making for the hotel. For positive correlations, such as between 'stays_in_weekend_nights' and 'stays_in_week_nights,' the hotel could leverage these patterns to tailor promotions or packages that encourage longer stays on both weekends and weekdays, potentially boosting revenue. On the other hand, the negative correlation underscores the importance of considering temporal trends, enabling the hotel to adapt its operations to seasonal variations and optimize marketing strategies for specific times of the year. Overall, these insights empower the hotel to make informed decisions that enhance positive correlations and address challenges indicated by negative correlations, fostering a more resilient and adaptable business strategy.\n",
        "\n",
        "\n",
        "\n",
        "\n",
        "\n"
      ],
      "metadata": {
        "id": "RvXtroxN4xMs"
      }
    },
    {
      "cell_type": "markdown",
      "source": [
        "Chart - 21"
      ],
      "metadata": {
        "id": "xyxkLu7GN9eb"
      }
    },
    {
      "cell_type": "code",
      "source": [
        "import matplotlib.pyplot as plt\n",
        "import seaborn as sns\n",
        "\n",
        "\n",
        "# Creating a new column 'revenue' by multiplying 'adr' with the total stay duration\n",
        "auto_df_cleaned['revenue'] = auto_df_cleaned['adr'] * (auto_df_cleaned['stays_in_weekend_nights'] + auto_df_cleaned['stays_in_week_nights'])\n",
        "\n",
        "# Grouping data by hotel type and month, then calculating the total revenue for each group\n",
        "grouped_data = auto_df_cleaned.groupby(['hotel', 'arrival_date_month'])['revenue'].sum().reset_index()\n",
        "\n",
        "# Creating a line chart\n",
        "plt.figure(figsize=(12, 6))\n",
        "sns.lineplot(x='arrival_date_month', y='revenue', hue='hotel', data=grouped_data, marker='o')\n",
        "\n",
        "# Adding labels and title\n",
        "plt.xlabel('Month')\n",
        "plt.ylabel('Total Revenue')\n",
        "plt.title('Revenue Trend Over Months for City Hotel and Resort Hotel')\n",
        "\n",
        "# Displaying the plot\n",
        "plt.xticks(rotation=45)\n",
        "plt.show()\n"
      ],
      "metadata": {
        "id": "cnTHOkog7F7S"
      },
      "execution_count": null,
      "outputs": []
    },
    {
      "cell_type": "markdown",
      "source": [
        "Why did you pick the specific chart?\n",
        "\n",
        "I chose a line chart for multivariate analysis as it effectively illustrates the revenue trends over months for both Resort Hotel and City Hotel, allowing for a direct comparison of their performance."
      ],
      "metadata": {
        "id": "_af61IZ_95-Y"
      }
    },
    {
      "cell_type": "markdown",
      "source": [
        "What is/are the insight(s) found from the chart?\n",
        "\n",
        "The chart reveals that Resort Hotel consistently generates higher total revenue than City Hotel. Both hotels experience a revenue surge between April and August, possibly indicating a peak season, and another increase from January to July. These insights highlight periods of high demand and revenue potential."
      ],
      "metadata": {
        "id": "18AcdcXr954b"
      }
    },
    {
      "cell_type": "markdown",
      "source": [
        "Will the gained insights help create a positive business impact? Are there any insights that lead to negative growth? Justify with specific reason.\n",
        "\n",
        "The insights can positively impact business planning by aligning resources with high-demand periods. However, if not managed efficiently, increased demand during these peak periods might strain resources, potentially leading to negative growth due to operational challenges and customer dissatisfaction. Proper resource allocation and strategic planning are essential to capitalize on revenue opportunities while mitigating potential negative impacts."
      ],
      "metadata": {
        "id": "dHQYy5SK9504"
      }
    },
    {
      "cell_type": "code",
      "source": [
        "# Check the column names in your DataFrame\n",
        "print(auto_df_cleaned.columns)\n"
      ],
      "metadata": {
        "id": "fKgff3gKShzE"
      },
      "execution_count": null,
      "outputs": []
    },
    {
      "cell_type": "markdown",
      "source": [
        "Chart-22"
      ],
      "metadata": {
        "id": "LgqHCiqF9M4S"
      }
    },
    {
      "cell_type": "code",
      "source": [
        "import pandas as pd\n",
        "import matplotlib.pyplot as plt\n",
        "import seaborn as sns\n",
        "\n",
        "\n",
        "# Reindexing the 'arrival_date_month' to have a custom order\n",
        "reindex = ['January', 'February', 'March', 'April', 'May', 'June', 'July', 'August', 'September', 'October', 'November', 'December']\n",
        "auto_df_cleaned['arrival_date_month'] = pd.Categorical(auto_df_cleaned['arrival_date_month'], categories=reindex, ordered=True)\n",
        "\n",
        "# Setting up the plot size\n",
        "plt.figure(figsize=(15, 8))\n",
        "\n",
        "# Creating a line chart for the mean ADR over the months with hue for hotel types\n",
        "sns.lineplot(x='arrival_date_month', y='adr', hue='hotel', data=auto_df_cleaned, marker='o')\n",
        "\n",
        "# Adding a title to the plot\n",
        "plt.title('Average Daily Rate (ADR) Trends Over Months for City Hotel and Resort Hotel')\n",
        "\n",
        "# Labeling the x-axis\n",
        "plt.xlabel('Month')\n",
        "\n",
        "# Labeling the y-axis\n",
        "plt.ylabel('Average Daily Rate (ADR)')\n",
        "\n",
        "# Displaying the legend\n",
        "plt.legend(title='Hotel Type')\n",
        "\n",
        "# Displaying the plot\n",
        "plt.show()\n"
      ],
      "metadata": {
        "id": "Pr5FfNBMVzvG"
      },
      "execution_count": null,
      "outputs": []
    },
    {
      "cell_type": "markdown",
      "source": [
        "Why did you pick the specific chart?\n",
        "\n",
        "\n",
        "I chose a line chart to visualize the Average Daily Rate (ADR) trends over months for both City Hotel and Resort Hotel. A line chart is effective for showing trends and variations over a continuous variable (months, in this case). The use of different colors for each hotel type (City Hotel and Resort Hotel) provides a clear visual distinction, making it easier to compare their ADR trends."
      ],
      "metadata": {
        "id": "uQ7eDSha6CPs"
      }
    },
    {
      "cell_type": "markdown",
      "source": [
        "What is/are the insight(s) found from the chart?\n",
        "\n",
        "\n",
        "The insights derived from the chart include the observation that Resort Hotel consistently maintains a higher ADR compared to City Hotel. Additionally, for Resort Hotel, there is a discernible increase in ADR from May to July, followed by a decline from September to November. These insights highlight the seasonal variations in pricing and suggest potential opportunities for strategic pricing adjustments."
      ],
      "metadata": {
        "id": "ZW8i6YF46LCg"
      }
    },
    {
      "cell_type": "markdown",
      "source": [
        "Will the gained insights help creating a positive business impact? Are there any insights that lead to negative growth? Justify with specific reason.\n",
        "\n",
        "\n",
        "The gained insights can positively impact business strategies. For instance, the higher ADR for Resort Hotel suggests the potential for increased revenue from guests seeking a more luxurious experience. The observed seasonal variations allow hotels to optimize pricing strategies, potentially capitalizing on high-demand periods and implementing targeted promotions during slower months. However, without additional context on the hotel's overall business strategy, it's challenging to definitively state whether these insights will lead to negative growth. Strategic decisions based on these insights should consider a holistic approach, taking into account broader business objectives and market dynamics."
      ],
      "metadata": {
        "id": "q6IDjw8P6N5h"
      }
    },
    {
      "cell_type": "markdown",
      "source": [
        "#### Chart - 23 - Pair Plot"
      ],
      "metadata": {
        "id": "q29F0dvdveiT"
      }
    },
    {
      "cell_type": "code",
      "source": [
        "# Pair# Pair plot for numerical features\n",
        "import seaborn as sns\n",
        "import matplotlib.pyplot as plt\n",
        "\n",
        "# Selecting specific numerical columns\n",
        "selected_numerical_columns = [\n",
        "    'lead_time', 'stays_in_weekend_nights','stays_in_week_nights',\n",
        "    'adults', 'children', 'babies', 'previous_cancellations', 'booking_changes',\n",
        "    'days_in_waiting_list', 'adr', 'required_car_parking_spaces', 'total_of_special_requests'\n",
        "]\n",
        "\n",
        "# Adding the target variable 'is_canceled' for color differentiation\n",
        "selected_numerical_columns_with_target = ['is_canceled'] + selected_numerical_columns\n",
        "\n",
        "# Creating pair plot for selected numerical columns\n",
        "sns.pairplot(auto_df_cleaned[selected_numerical_columns_with_target], hue='is_canceled')\n",
        "plt.suptitle('Pair Plot for Selected Numerical Columns with Target Variable', y=1.02)\n",
        "plt.show()\n",
        "\n",
        "\n"
      ],
      "metadata": {
        "id": "o58-TEIhveiU"
      },
      "execution_count": null,
      "outputs": []
    },
    {
      "cell_type": "markdown",
      "source": [
        "##### 1. Why did you pick the specific chart?"
      ],
      "metadata": {
        "id": "EXh0U9oCveiU"
      }
    },
    {
      "cell_type": "markdown",
      "source": [
        "I chose a pair plot for selected numerical features with the target variable 'is_canceled' to visually explore the relationships and distributions between these variables. A pair plot is useful for examining pairwise interactions, correlations, and identifying patterns in the data. The hue parameter allows us to differentiate between canceled and non-canceled bookings, providing insights into how numerical features relate to the cancellation status."
      ],
      "metadata": {
        "id": "eMmPjTByveiU"
      }
    },
    {
      "cell_type": "markdown",
      "source": [
        "##### 2. What is/are the insight(s) found from the chart?"
      ],
      "metadata": {
        "id": "22aHeOlLveiV"
      }
    },
    {
      "cell_type": "markdown",
      "source": [
        "The pair plot reveals several insights:\n",
        "\n",
        "Lead Time vs. Previous Cancellations: Bookings with longer lead times tend to have fewer previous cancellations, suggesting that guests who plan well in advance are less likely to cancel.\n",
        "\n",
        "Total of Special Requests vs. Required Car Parking Spaces: There is no clear trend between these variables, indicating that special requests are not strongly correlated with the need for parking spaces.\n",
        "\n",
        "ADR (Average Daily Rate) vs. Booking Changes: Higher ADR values are associated with a lower frequency of booking changes, indicating that guests with more expensive reservations might be less likely to modify their bookings.\n",
        "\n",
        "Stays in Week Nights vs. Stays in Weekend Nights: The distribution of stays during the week and weekend nights shows various patterns, and it is not straightforward to conclude a clear relationship.\n",
        "\n",
        "Cancellation Status and Numeric Features: The hue differentiation helps identify patterns specific to canceled and non-canceled bookings across various numeric features."
      ],
      "metadata": {
        "id": "uPQ8RGwHveiV"
      }
    },
    {
      "cell_type": "markdown",
      "source": [
        "## **5. Solution to Business Objective**"
      ],
      "metadata": {
        "id": "JcMwzZxoAimU"
      }
    },
    {
      "cell_type": "markdown",
      "source": [
        "#### What do you suggest the client to achieve Business Objective ?\n"
      ],
      "metadata": {
        "id": "8G2x9gOozGDZ"
      }
    },
    {
      "cell_type": "markdown",
      "source": [
        "To achieve the business objectives successfully, I recommend adopting a strategic and balanced approach that integrates the valuable insights garnered from the various analyses and visualizations. Firstly, given the concentration of bookings with short lead times, the client should prioritize operational flexibility while maintaining efficient resource planning to accommodate last-minute demand effectively. Additionally, the dominance of City Hotel provides an opportunity for business planning, but to mitigate risks associated with shifts in market dynamics, the client should consider diversification strategies, possibly exploring avenues for enhancing Resort Hotel offerings.\n",
        "\n",
        "Moreover, insights into peak booking months offer a chance for optimized resource allocation and tailored marketing strategies. However, operational challenges may arise during high-demand periods, making strategic planning and operational preparedness crucial. Tailoring services and marketing efforts to the predominant 'Transient' customer type is a positive strategy, but the client should aim for a balanced approach that considers diverse customer segments to ensure resilience during periods of low demand.\n",
        "\n",
        "Furthermore, collaboration with travel agents and tour operators, being primary contributors, is essential, but a diversified approach considering various booking channels can mitigate risks during market shifts. Aligning services with the most common special request patterns positively impacts customer satisfaction and operational efficiency, but maintaining a balanced approach is essential to prevent operational challenges and increased costs.\n",
        "\n",
        "In terms of revenue optimization, while insights into higher revenue for City Hotel are valuable, focusing solely on City Hotel without leveraging the strengths of Resort Hotel may hinder overall growth. Therefore, a balanced strategy that capitalizes on the strengths of each hotel type will be crucial for sustained positive business impact. In conclusion, the client should adopt a holistic and diversified business strategy that encompasses operational efficiency, customer satisfaction, and market adaptability to achieve the desired business objectives over the long term."
      ],
      "metadata": {
        "id": "pASKb0qOza21"
      }
    },
    {
      "cell_type": "markdown",
      "source": [
        "# **Conclusion**"
      ],
      "metadata": {
        "id": "gCX9965dhzqZ"
      }
    },
    {
      "cell_type": "markdown",
      "source": [
        "Write the conclusion here."
      ],
      "metadata": {
        "id": "Fjb1IsQkh3yE"
      }
    },
    {
      "cell_type": "markdown",
      "source": [
        "In conclusion, the comprehensive analysis of the hotel dataset provides valuable insights for strategic decision-making and business planning. Understanding the trends and patterns in booking behavior, lead times, hotel types, and customer preferences is crucial for achieving positive business outcomes. The concentration of bookings with short lead times suggests the need for operational flexibility and responsiveness, balancing last-minute demand with efficient resource planning.\n",
        "\n",
        "The dominance of City Hotel presents an opportunity for strategic planning, but diversification strategies should be explored to mitigate risks associated with market shifts. Leveraging insights into peak booking months, customer types, and booking channels allows for optimized resource allocation, tailored marketing strategies, and collaboration with key contributors. However, a balanced approach is essential to address challenges and maintain operational efficiency.\n",
        "\n",
        "The client is recommended to adopt a diversified and customer-centric approach, considering the strengths of each hotel type, and incorporating flexibility in operations. Strategic collaboration, service alignment with customer preferences, and a focus on optimizing revenue for both hotel types will contribute to sustained positive business impact. The client should remain agile, responsive to market dynamics, and continuously refine strategies based on evolving trends to achieve long-term success and growth in the hospitality industry."
      ],
      "metadata": {
        "id": "6F4U9ueUE1gs"
      }
    },
    {
      "cell_type": "markdown",
      "source": [
        "### ***Hurrah! You have successfully completed your EDA Capstone Project !!!***"
      ],
      "metadata": {
        "id": "gIfDvo9L0UH2"
      }
    }
  ]
}